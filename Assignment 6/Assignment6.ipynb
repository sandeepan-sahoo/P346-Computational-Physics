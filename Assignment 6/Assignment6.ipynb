{
 "cells": [
  {
   "cell_type": "code",
   "execution_count": 1,
   "id": "8da141a8-a486-451d-a13f-bcf0e7d1c571",
   "metadata": {},
   "outputs": [
    {
     "name": "stdout",
     "output_type": "stream",
     "text": [
      "By the Midpoint Method\n",
      "For N=8 3.618313859329873  3.202\n",
      "For N=16 3.619709761707181  3.202\n",
      "For N=24 3.619972785533525  3.202\n",
      "By the Trapezoidal Method\n",
      "For N=8 3.6239569493985613  3.202\n",
      "For N=16 3.621135404364218  3.202\n",
      "For N=24 3.620607687124767  3.202\n",
      "By the Simpson Method\n",
      "For N=8 3.620194889352769  3.202\n",
      "For N=16 3.620184975926193  3.202\n",
      "For N=24 3.620184419397273  3.202\n",
      "Midpoint\n",
      "0.6433954432705882\n",
      "By the Trapezoidal Method\n",
      "0.64416883983916\n",
      "By the Simpson Method\n",
      "0.6437925869327117\n",
      "The monte carlo method\n",
      "3.339779586602082\n",
      "3.127062589822125\n",
      "3.170991474561672\n",
      "3.1337072819460667\n",
      "3.138365535109633\n",
      "3.1403733478605798\n",
      "The center of mass is at\n",
      "1.504471192366812\n",
      "meters away from the left end\n"
     ]
    },
    {
     "data": {
      "image/png": "[encoded data removed]",
      "text/plain": [
       "<Figure size 432x288 with 1 Axes>"
      ]
     },
     "metadata": {
      "needs_background": "light"
     },
     "output_type": "display_data"
    }
   ],
   "source": [
    "from MyLibrary import *\n",
    "import matplotlib.pyplot as plt\n",
    "import math\n",
    "#Q1\n",
    "def f1(x):\n",
    "    if x!=0:\n",
    "        return math.sqrt(1+1/x)\n",
    "print(\"By the Midpoint Method\")\n",
    "print(\"For N=8 \" + str(midpoint(f1,1,4,8)) + \"  3.202\")\n",
    "print(\"For N=16 \" + str(midpoint(f1,1,4,16)) + \"  3.202\")\n",
    "print(\"For N=24 \" + str(midpoint(f1,1,4,24))+ \"  3.202\")\n",
    "print(\"By the Trapezoidal Method\")\n",
    "print(\"For N=8 \" + str(trapezoid(f1,1,4,8))+ \"  3.202\")\n",
    "print(\"For N=16 \" + str(trapezoid(f1,1,4,16))+ \"  3.202\")\n",
    "print(\"For N=24 \" + str(trapezoid(f1,1,4,24))+ \"  3.202\")\n",
    "print(\"By the Simpson Method\")\n",
    "print(\"For N=8 \" + str(simpson(f1,1,4,8))+ \"  3.202\")\n",
    "print(\"For N=16 \" + str(simpson(f1,1,4,16))+ \"  3.202\")\n",
    "print(\"For N=24 \" + str(simpson(f1,1,4,24))+ \"  3.202\")\n",
    "\n",
    "\n",
    "#Q2\n",
    "def f2(x):\n",
    "    return x*math.sqrt(x+1)\n",
    "#For midpoint method, following max error as 0.001, N=9\n",
    "print(\"Midpoint\")\n",
    "print(midpoint(f2,0,1,9))\n",
    "#For trapezoidal method, following max error as 0.001, N=13\n",
    "print(\"By the Trapezoidal Method\")\n",
    "print(trapezoid(f2,0,1,13))\n",
    "#For simpson method, following max error as 0.001, N=3\n",
    "print(\"By the Simpson Method\")\n",
    "print(simpson(f2,0,1,3))\n",
    "\n",
    "#Q3\n",
    "#for N=10\n",
    "def f3(x):\n",
    "    return 4/(1 + x**2)\n",
    "n = 10\n",
    "print(\"The monte carlo method\")\n",
    "#to store pi so as to plot it v n\n",
    "pi = []\n",
    "cn = []\n",
    "for i in range(6):\n",
    "    cn.append(n)\n",
    "    pi.append(monteCarlo(f3,0,1,n))\n",
    "    print(pi[i])\n",
    "    n = n*10\n",
    "\n",
    "plt.plot(cn,pi)\n",
    "plt.xlabel(\"N\")\n",
    "plt.ylabel(\"pi\")\n",
    "plt.title(\"pi v N\")\n",
    "\n",
    "#Q4\n",
    "print(\"The center of mass is at\")\n",
    "def f4(x):\n",
    "    return x**3\n",
    "def f5(x):\n",
    "    return x**2\n",
    "print(monteCarlo(f4,0,2,100000)/monteCarlo(f5,0,2,100000))\n",
    "print(\"meters away from the left end\")\n"
   ]
  },
  {
   "cell_type": "code",
   "execution_count": null,
   "id": "aef81d49-3ec2-488f-a13f-07c1643f49c9",
   "metadata": {},
   "outputs": [],
   "source": []
  }
 ],
 "metadata": {
  "kernelspec": {
   "display_name": "Python 3",
   "language": "python",
   "name": "python3"
  },
  "language_info": {
   "codemirror_mode": {
    "name": "ipython",
    "version": 3
   },
   "file_extension": ".py",
   "mimetype": "text/x-python",
   "name": "python",
   "nbconvert_exporter": "python",
   "pygments_lexer": "ipython3",
   "version": "3.8.8"
  }
 },
 "nbformat": 4,
 "nbformat_minor": 5
}
