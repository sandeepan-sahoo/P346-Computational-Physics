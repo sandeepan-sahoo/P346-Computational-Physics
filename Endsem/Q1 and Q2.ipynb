{
 "cells": [
  {
   "cell_type": "code",
   "execution_count": 3,
   "id": "5b3fd2c6-e394-4099-8b23-30d6dcc992fd",
   "metadata": {},
   "outputs": [
    {
     "name": "stdout",
     "output_type": "stream",
     "text": [
      "The volume of ideal gas is 4.139495798319328\n",
      "Volume of gas V:\n",
      "3.9299487765607175\n",
      "By simpson integration the potential is\n",
      "1.8728487731724819\n"
     ]
    }
   ],
   "source": [
    "import matplotlib.pyplot as plt\n",
    "import math\n",
    "#Q1 \n",
    "from MyLibrary import *\n",
    "import math              \n",
    "def f1(v):         \n",
    "    return (5.95 + 6.254/(v**2))*(v-0.05422) - 3*8.21         \n",
    "def df1(v):\n",
    "    return 5.95 - 6.254/(v**2) +2*6.254*0.05422/(v**3)\n",
    "v0 = 300*0.0821/5.95\n",
    "print(\"The volume of ideal gas is \" + str(v0))\n",
    "print(\"Volume of gas V:\")\n",
    "print(newton_raphson(f1,df1,4.14))\n",
    "\n",
    "#Q2\n",
    "def f2(x):                                                       #the potential\n",
    "    return pow(math.e,-(x**2)/16)/(math.sqrt(x**2 + 1.5**2))\n",
    "print(\"By simpson integration the potential is\")\n",
    "print(simpson(f2,-1,3,12))\n",
    "\n"
   ]
  },
  {
   "cell_type": "code",
   "execution_count": null,
   "id": "43e83bbe-3b15-4a9d-98a3-d97b5b701063",
   "metadata": {},
   "outputs": [],
   "source": []
  }
 ],
 "metadata": {
  "kernelspec": {
   "display_name": "Python 3",
   "language": "python",
   "name": "python3"
  },
  "language_info": {
   "codemirror_mode": {
    "name": "ipython",
    "version": 3
   },
   "file_extension": ".py",
   "mimetype": "text/x-python",
   "name": "python",
   "nbconvert_exporter": "python",
   "pygments_lexer": "ipython3",
   "version": "3.8.8"
  }
 },
 "nbformat": 4,
 "nbformat_minor": 5
}
