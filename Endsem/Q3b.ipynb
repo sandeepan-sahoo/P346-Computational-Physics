{
 "cells": [
  {
   "cell_type": "code",
   "execution_count": 1,
   "id": "8c3f198c-5d77-4387-a678-a7a0a871a5e9",
   "metadata": {},
   "outputs": [
    {
     "name": "stdout",
     "output_type": "stream",
     "text": [
      "The value of sigma0 is 0.7806161718492721\n",
      "The value of alpha is 1210.3128499724626\n",
      "Pearson coefficient is 1.0000955667993006\n"
     ]
    },
    {
     "data": {
      "image/png": "[encoded data removed]",
      "text/plain": [
       "<Figure size 432x288 with 1 Axes>"
      ]
     },
     "metadata": {
      "needs_background": "light"
     },
     "output_type": "display_data"
    }
   ],
   "source": [
    "import matplotlib.pyplot as plt\n",
    "import math\n",
    "from MyLibrary import *\n",
    "def linefit(x,y):\n",
    "    sxx = 0\n",
    "    sx = 0\n",
    "    sy = 0\n",
    "    sxy = 0\n",
    "    n = len(x)\n",
    "    for k in range(n):\n",
    "        sxx += x[k]**2\n",
    "        sx += x[k]\n",
    "        sy += y[k]\n",
    "        sxy += x[k]*y[k]\n",
    "    c = [[sx,n],[sxx,sx]]\n",
    "    d = [sy,sxy]\n",
    "    if determinant(c)==0:\n",
    "        return \"no solution\"\n",
    "    q=gaussjordan(c,d)\n",
    "    return q\n",
    "def pearson(x,y):\n",
    "    sxx = 0\n",
    "    sx = 0\n",
    "    sy = 0\n",
    "    sxy = 0\n",
    "    syy = 0\n",
    "    n = len(x)\n",
    "    for k in range(n):\n",
    "        sxx += x[k]**2\n",
    "        sx += x[k]\n",
    "        sy += y[k]\n",
    "        syy += y[k]**2\n",
    "        sxy += x[k]*y[k]\n",
    "    return math.sqrt(abs((sxy-n*sx*sy)**2/((sxx-n*sx**2)*(syy-n*sy**2))))\n",
    "def bestSlope(p,x,y):\n",
    "    sx = []\n",
    "    sy = []\n",
    "    for i in range(p):\n",
    "        sx.append([])\n",
    "        sy.append(0)\n",
    "    n = len(x)\n",
    "    for i in range(p):\n",
    "        for j in range(p):\n",
    "            sx[i].append(0)\n",
    "            for k in range(n):\n",
    "                sx[i][j] += x[k]**(j+i)\n",
    "        for k in range(n):\n",
    "            sy[i] += y[k]**i\n",
    "    if determinant(sx)==0:\n",
    "        return \"no solution\"\n",
    "    u=gaussjordan(sx,sy)\n",
    "    q = []\n",
    "    for h in u:\n",
    "        q.append(h[p])\n",
    "    return q\n",
    "    return q  \n",
    "f=open(\"esem_fit1.txt\",\"r\")\n",
    "lines=f.readlines()\n",
    "result=[]\n",
    "x = []\n",
    "y = []\n",
    "for k in lines:\n",
    "    result.append(k.split(' ')[1])\n",
    "    x.append(float(k[0]) + 0.1*float(k[2]))\n",
    "    y.append(0.1*float(k[6]) + 0.01*float(k[7]))\n",
    "f.close()\n",
    "y1 = []\n",
    "for b in y:\n",
    "    y1.append(math.log(b))\n",
    "\n",
    "#(a)\n",
    "sigma0 = pow(math.e,linefit(x,y1)[0][2])           #value of sigma0\n",
    "alpha = pow(math.e,linefit(x,y1)[1][2])             #value of sigma0\n",
    "cond = []\n",
    "for t in x:\n",
    "    cond.append(sigma0*alpha**t)\n",
    "print(\"The value of sigma0 is \" + str(sigma0))\n",
    "print(\"The value of alpha is \" + str(alpha))\n",
    "plt.plot(x,cond)\n",
    "plt.xlabel(\"Temperature\")\n",
    "plt.ylabel(\"Conductivity\")\n",
    "print(\"Pearson coefficient is \" + str(pearson(x,y1)))"
   ]
  },
  {
   "cell_type": "code",
   "execution_count": null,
   "id": "5fbd45a4-e92a-4dd3-9e7c-51f97493af65",
   "metadata": {},
   "outputs": [],
   "source": []
  }
 ],
 "metadata": {
  "kernelspec": {
   "display_name": "Python 3",
   "language": "python",
   "name": "python3"
  },
  "language_info": {
   "codemirror_mode": {
    "name": "ipython",
    "version": 3
   },
   "file_extension": ".py",
   "mimetype": "text/x-python",
   "name": "python",
   "nbconvert_exporter": "python",
   "pygments_lexer": "ipython3",
   "version": "3.8.8"
  }
 },
 "nbformat": 4,
 "nbformat_minor": 5
}
