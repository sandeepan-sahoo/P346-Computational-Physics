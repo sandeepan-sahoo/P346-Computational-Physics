{
 "cells": [
  {
   "cell_type": "code",
   "execution_count": 15,
   "id": "2ecaddfd-f9ea-4e7c-934d-f8bdde0ade27",
   "metadata": {},
   "outputs": [
    {
     "name": "stdout",
     "output_type": "stream",
     "text": [
      "3 + i4\n",
      "5.0\n",
      "0.9272952180016122\n",
      "3 - i4\n",
      "5 + i8\n",
      "-14 + i23\n",
      "4.828078792603348 - i1.2998673672393632\n"
     ]
    }
   ],
   "source": [
    "import math\n",
    "class myComplex:\n",
    "    def __init__(self, real, ima):\n",
    "        self.real = real\n",
    "        self.ima = ima\n",
    "    def show(self):\n",
    "        if self.ima>0:\n",
    "            return str(self.real) + \" + i\" + str(self.ima)            #to show the complex number\n",
    "        elif self.ima<0:\n",
    "            return str(self.real) + \" - i\" + str(-1*self.ima)\n",
    "        else:\n",
    "            return str(self.real) + \" + i0\" \n",
    "    def add(self, b):\n",
    "        re = self.real + b.real                                         #to add two numbers\n",
    "        im = self.real + b.ima\n",
    "        c = myComplex(re, im)\n",
    "        return c\n",
    "    def product(self, b):\n",
    "        re = self.real*b.real-self.ima*b.ima                             #to multiply two numbers\n",
    "        im = self.real*b.ima +self.ima*b.real\n",
    "        c = myComplex(re,im)\n",
    "        return c\n",
    "    def modulus(self):\n",
    "        m = math.sqrt(math.pow(self.real,2)+math.pow(self.ima,2))          #modulus of a number\n",
    "        return m\n",
    "    def phase(self):\n",
    "        phi = math.atan(float(self.ima/self.real))                         #phase of a number\n",
    "        return phi\n",
    "    def conjugate(self):\n",
    "        re = self.real\n",
    "        im = -1*self.ima                                                    #conjugate of a number\n",
    "        c = myComplex(re,im)\n",
    "        return c                                                              \n",
    "    def divide(self, b):                                                    #dividing two numbers\n",
    "        if b.modulus==0:\n",
    "            print(\"can't divide by zero\")\n",
    "        else:\n",
    "            d = float(1/b.modulus())\n",
    "            c = b.conjugate()\n",
    "            c.real = float(c.real * d)\n",
    "            c.ima = float(c.ima * d)\n",
    "            u = self.product(c)\n",
    "            return u\n",
    "    \n",
    "a = myComplex(3,4)\n",
    "print(a.show())\n",
    "print(a.modulus())\n",
    "print(a.phase())\n",
    "z = a.conjugate()\n",
    "print(z.show())\n",
    "b = myComplex(2,5)\n",
    "c = a.add(b)\n",
    "print(c.show())\n",
    "d = a.product(b)\n",
    "print(d.show())\n",
    "e = a.divide(b)\n",
    "print(e.show())"
   ]
  },
  {
   "cell_type": "code",
   "execution_count": null,
   "id": "1937f715-3f9a-425c-b87a-16d79231b3f9",
   "metadata": {},
   "outputs": [],
   "source": []
  }
 ],
 "metadata": {
  "kernelspec": {
   "display_name": "Python 3",
   "language": "python",
   "name": "python3"
  },
  "language_info": {
   "codemirror_mode": {
    "name": "ipython",
    "version": 3
   },
   "file_extension": ".py",
   "mimetype": "text/x-python",
   "name": "python",
   "nbconvert_exporter": "python",
   "pygments_lexer": "ipython3",
   "version": "3.8.8"
  }
 },
 "nbformat": 4,
 "nbformat_minor": 5
}
