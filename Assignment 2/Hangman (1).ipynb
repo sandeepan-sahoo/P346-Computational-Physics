{
 "cells": [
  {
   "cell_type": "code",
   "execution_count": 4,
   "id": "373b17ea-1de2-4d63-8b88-727b9ae6d19b",
   "metadata": {},
   "outputs": [
    {
     "name": "stdout",
     "output_type": "stream",
     "text": [
      "Welcome to Pokemon Hangman where you have to guess name of a pokemon. And remember pokemon names always begin with capital letter.\n",
      "*********\n"
     ]
    },
    {
     "name": "stdin",
     "output_type": "stream",
     "text": [
      "guess your letter:  d\n"
     ]
    },
    {
     "name": "stdout",
     "output_type": "stream",
     "text": [
      "********d\n"
     ]
    },
    {
     "name": "stdin",
     "output_type": "stream",
     "text": [
      "guess your letter:  C\n"
     ]
    },
    {
     "name": "stdout",
     "output_type": "stream",
     "text": [
      "C*******d\n"
     ]
    },
    {
     "name": "stdin",
     "output_type": "stream",
     "text": [
      "guess your letter:  h\n"
     ]
    },
    {
     "name": "stdout",
     "output_type": "stream",
     "text": [
      "Ch******d\n"
     ]
    },
    {
     "name": "stdin",
     "output_type": "stream",
     "text": [
      "guess your letter:  a\n"
     ]
    },
    {
     "name": "stdout",
     "output_type": "stream",
     "text": [
      "Cha***a*d\n"
     ]
    },
    {
     "name": "stdin",
     "output_type": "stream",
     "text": [
      "guess your letter:  r\n"
     ]
    },
    {
     "name": "stdout",
     "output_type": "stream",
     "text": [
      "Char**ard\n"
     ]
    },
    {
     "name": "stdin",
     "output_type": "stream",
     "text": [
      "guess your letter:  i\n"
     ]
    },
    {
     "name": "stdout",
     "output_type": "stream",
     "text": [
      "Chari*ard\n"
     ]
    },
    {
     "name": "stdin",
     "output_type": "stream",
     "text": [
      "guess your letter:  g\n"
     ]
    },
    {
     "name": "stdout",
     "output_type": "stream",
     "text": [
      "Sorry 2 tries left\n",
      "Chari*ard\n"
     ]
    },
    {
     "name": "stdin",
     "output_type": "stream",
     "text": [
      "guess your letter:  f\n"
     ]
    },
    {
     "name": "stdout",
     "output_type": "stream",
     "text": [
      "Sorry 1 tries left\n",
      "Chari*ard\n"
     ]
    },
    {
     "name": "stdin",
     "output_type": "stream",
     "text": [
      "guess your letter:  z\n"
     ]
    },
    {
     "name": "stdout",
     "output_type": "stream",
     "text": [
      "Charizard\n",
      "Congrats. You have succesfully guessed the word\n"
     ]
    }
   ],
   "source": [
    "import math\n",
    "import random\n",
    "pokenames = ['pikachu', 'Butterfree','Bulbasaur', 'Charizard', 'Togapi', 'Meowth', 'Pidgeot', 'Evy', 'Swallow', 'Articuno', 'Aipom','Tauros', 'Dragonite', 'Kingler', 'Squirtle', 'Onix', 'Aerodactyl', 'Vulpix', 'Blaziken', 'Gyarados', 'Totodile', 'Steelix', 'Chimchar', 'Mewtwo']\n",
    "#function to replace an indexed letter of a string\n",
    "def letterReplace(string, letter, p):\n",
    "    g = []\n",
    "    for a in string:\n",
    "        g.append(a)                                     \n",
    "    if p<len(string):\n",
    "        g[p]=letter\n",
    "    w = \"\"\n",
    "    for i in range(len(string)):\n",
    "        w = w + str(g[i])\n",
    "    return w    \n",
    "#the hangman game\n",
    "def hangman(word):\n",
    "    show = \"\"\n",
    "    for i in range(len(word)):\n",
    "        show = show + \"*\"\n",
    "    \n",
    "    lim = math.floor(0.4*float(len(word)))                 #for the total number of tries left\n",
    "    g = lim\n",
    "    while g!=0:\n",
    "        print(show)\n",
    "        if show!=word:\n",
    "            guess = input(\"guess your letter: \")\n",
    "            if guess in word:\n",
    "                for i in range(len(word)):\n",
    "                    if word[i]==guess:\n",
    "                        show = letterReplace(show, guess, i)            #to change the show word if there is right guess\n",
    "            else:\n",
    "                g=g-1\n",
    "                print(\"Sorry \" + str(g) + \" tries left\")\n",
    "                if g == 0:\n",
    "                    print(\"Game over. The correct word is:\")\n",
    "                    show = word\n",
    "                    print(show)\n",
    "        else:\n",
    "            print(\"Congrats. You have succesfully guessed the word\")\n",
    "            g = 0\n",
    "print(\"Welcome to Pokemon Hangman where you have to guess name of a pokemon. And remember pokemon names always begin with capital letter.\")\n",
    "word = str(random.choice(pokenames))\n",
    "hangman(word)\n",
    "             "
   ]
  },
  {
   "cell_type": "code",
   "execution_count": null,
   "id": "28dcd6c6-1246-462d-b472-1cf794565518",
   "metadata": {},
   "outputs": [],
   "source": []
  }
 ],
 "metadata": {
  "kernelspec": {
   "display_name": "Python 3",
   "language": "python",
   "name": "python3"
  },
  "language_info": {
   "codemirror_mode": {
    "name": "ipython",
    "version": 3
   },
   "file_extension": ".py",
   "mimetype": "text/x-python",
   "name": "python",
   "nbconvert_exporter": "python",
   "pygments_lexer": "ipython3",
   "version": "3.8.8"
  }
 },
 "nbformat": 4,
 "nbformat_minor": 5
}
