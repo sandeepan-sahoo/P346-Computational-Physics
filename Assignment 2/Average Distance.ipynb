{
 "cells": [
  {
   "cell_type": "code",
   "execution_count": 19,
   "id": "bff86770-ad79-46e4-8f27-4961b2867fee",
   "metadata": {},
   "outputs": [
    {
     "name": "stdin",
     "output_type": "stream",
     "text": [
      "enter number of points: 3\n"
     ]
    },
    {
     "name": "stdout",
     "output_type": "stream",
     "text": [
      "1.3333333333333333\n"
     ]
    }
   ],
   "source": [
    "import math\n",
    "def aver(n):\n",
    "      d = 0\n",
    "      y = 0\n",
    "      for i in range(n):\n",
    "          for j in range(i+1,n):\n",
    "              d = d + j-i\n",
    "              y = y+1\n",
    "      if n==0:\n",
    "          return \"can't have zero points\"\n",
    "      elif n-math.floor(n)!=0:\n",
    "          return \"can only take atural numbers\"\n",
    "      else:\n",
    "          return float(d/y)\n",
    "n = int(input(\"enter number of points:\"))\n",
    "print(aver(n))"
   ]
  },
  {
   "cell_type": "code",
   "execution_count": null,
   "id": "97868c02-b687-47a6-9af4-0907e7b63fc3",
   "metadata": {},
   "outputs": [],
   "source": []
  },
  {
   "cell_type": "code",
   "execution_count": null,
   "id": "dd2fcb80-0a57-441b-8db0-b908aeb0a973",
   "metadata": {},
   "outputs": [],
   "source": []
  }
 ],
 "metadata": {
  "kernelspec": {
   "display_name": "Python 3",
   "language": "python",
   "name": "python3"
  },
  "language_info": {
   "codemirror_mode": {
    "name": "ipython",
    "version": 3
   },
   "file_extension": ".py",
   "mimetype": "text/x-python",
   "name": "python",
   "nbconvert_exporter": "python",
   "pygments_lexer": "ipython3",
   "version": "3.8.8"
  }
 },
 "nbformat": 4,
 "nbformat_minor": 5
}
