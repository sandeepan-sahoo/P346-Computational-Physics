{
 "cells": [
  {
   "cell_type": "code",
   "execution_count": 8,
   "id": "ab48ef04-0433-4eff-bdc7-452997490d89",
   "metadata": {},
   "outputs": [
    {
     "name": "stdout",
     "output_type": "stream",
     "text": [
      "plot of f(x) v i\n"
     ]
    },
    {
     "data": {
      "image/png": "[encoded data removed]",
      "text/plain": [
       "<Figure size 432x288 with 1 Axes>"
      ]
     },
     "metadata": {
      "needs_background": "light"
     },
     "output_type": "display_data"
    }
   ],
   "source": [
    "import math\n",
    "import matplotlib.pyplot as plt\n",
    "#graph of log(x/2) - sin2.5x per iteration by bisection\n",
    "def func1(x):\n",
    "    x = float(x)\n",
    "    return math.log(x/2,math.e) - math.sin(2.5*x)\n",
    "def func2(x):\n",
    "    return -x - math.cos(x)\n",
    "def dfunc2(x):\n",
    "    return -1 + math.sin(x)\n",
    "def bracket(f,a,b):\n",
    "    if f(a)*f(b)<=0:\n",
    "        return a,b\n",
    "    else:\n",
    "        while f(a)*f(b)>0:\n",
    "            if abs(f(a))>abs(f(b)):\n",
    "                b = b + 0.5*(b-a)\n",
    "            else:\n",
    "                a = a - 0.5*(b-a)\n",
    "        return a,b\n",
    "def bisec_graph(f,a,b):\n",
    "    iter = []\n",
    "    func = []\n",
    "    a,b = bracket(f,a,b)\n",
    "    if f(a)*f(b)<0:\n",
    "        c = (a+b)/2\n",
    "        i = 0\n",
    "        while abs(f(c))>0.00001:\n",
    "            c = (a+b)/2\n",
    "            if f(c)*f(a)<0:\n",
    "                b = c\n",
    "            elif f(c)*f(b)<0:\n",
    "                a = c\n",
    "            iter.append(i)\n",
    "            func.append(f(c))\n",
    "            i = i+1\n",
    "        plt.plot(iter, func)\n",
    "def regula_graph(f,a,b):\n",
    "    iter1 = []\n",
    "    funca = []\n",
    "    a,b = bracket(f,a,b)\n",
    "    if f(a)*f(b)<0:\n",
    "        c = float((a*f(b)-b*f(a))/(f(b)-f(a)))\n",
    "        i = 0\n",
    "        while abs(f(c))>0.00001:\n",
    "            c = float((a*f(b)-b*f(a))/(f(b)-f(a)))\n",
    "            if f(c)*f(a)<0:\n",
    "                b = c\n",
    "            elif f(c)*f(b)<0:\n",
    "                a = c\n",
    "            iter1.append(i)\n",
    "            funca.append(f(c))\n",
    "            i = i+1\n",
    "        plt.plot(iter1, funca)\n",
    "def newton_graph(f,df,x):\n",
    "    i = 0\n",
    "    iter = []\n",
    "    func = []\n",
    "    while abs(f(x))>0.00001:\n",
    "        if abs(df(x))>0.001:\n",
    "            x = x - f(x)/df(x)\n",
    "            iter.append(i)\n",
    "            func.append(f(x))\n",
    "            i = i+1\n",
    "        plt.plot(iter, func)         \n",
    "bisec_graph(func1,1.6,2.4)\n",
    "print(\"plot of f(x) v i\")"
   ]
  },
  {
   "cell_type": "code",
   "execution_count": null,
   "id": "a6ffdf74-1aac-4ecf-8474-5b4da489caab",
   "metadata": {},
   "outputs": [],
   "source": []
  },
  {
   "cell_type": "code",
   "execution_count": null,
   "id": "50a1dee4-5ea9-4763-ad84-2ba6ef064bee",
   "metadata": {},
   "outputs": [],
   "source": []
  },
  {
   "cell_type": "code",
   "execution_count": null,
   "id": "35bb4757-965f-4f8a-bdcf-eec13262e2b0",
   "metadata": {},
   "outputs": [],
   "source": []
  }
 ],
 "metadata": {
  "kernelspec": {
   "display_name": "Python 3",
   "language": "python",
   "name": "python3"
  },
  "language_info": {
   "codemirror_mode": {
    "name": "ipython",
    "version": 3
   },
   "file_extension": ".py",
   "mimetype": "text/x-python",
   "name": "python",
   "nbconvert_exporter": "python",
   "pygments_lexer": "ipython3",
   "version": "3.8.8"
  }
 },
 "nbformat": 4,
 "nbformat_minor": 5
}
