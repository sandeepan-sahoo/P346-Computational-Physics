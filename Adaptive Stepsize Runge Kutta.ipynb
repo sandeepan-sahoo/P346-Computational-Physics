{
 "cells": [
  {
   "cell_type": "code",
   "execution_count": 2,
   "id": "6aa4060b-191c-4dd9-aa3e-78c07cfa2d0f",
   "metadata": {},
   "outputs": [
    {
     "name": "stdout",
     "output_type": "stream",
     "text": [
      "The value at 3 by rk4 step halving method is\n",
      "1.7720454615752008\n",
      "The value at 3 by the Runge Kutta Fehlberg method is\n",
      "2.1672509020742563\n",
      "None\n"
     ]
    },
    {
     "data": {
      "image/png": "[encoded data removed]",
      "text/plain": [
       "<Figure size 432x288 with 1 Axes>"
      ]
     },
     "metadata": {
      "needs_background": "light"
     },
     "output_type": "display_data"
    }
   ],
   "source": [
    "import math\n",
    "import matplotlib.pyplot as plt\n",
    "#Step Halving method for comparison\n",
    "def rk4half(f,x1,x2,y,h,e):\n",
    "    if x2<x1:\n",
    "        h = -1*h\n",
    "    k = math.floor((x2-x1)/h)\n",
    "    for i in range(k):\n",
    "        k1 = h*f(x1,y)\n",
    "        k2 = h*f(x1+ 0.5*h,y + 0.5*k1)\n",
    "        k3 = h*f(x1+ 0.5*h,y + 0.5*k2)\n",
    "        k4 = h*f(x1+ h,y + k3)\n",
    "        c = y\n",
    "        y = y + (k1 + 2*k2 + 2*k3 + k4)/6\n",
    "        for j in range(2):\n",
    "            k1 = h*f(x1,y)/2\n",
    "            k2 = h*f(x1+ 0.5*h,y + 0.5*k1)/2\n",
    "            k3 = h*f(x1+ 0.5*h,y + 0.5*k2)/2\n",
    "            k4 = h*f(x1+ h,y + k3)/2\n",
    "            c = c + (k1 + 2*k2 + 2*k3 + k4)/6\n",
    "        if abs(y-c)>abs(e):\n",
    "            y + (y-c)/15\n",
    "        x1 = x1 + h\n",
    "    return y\n",
    "\n",
    "#Runge-Kutta-Fehlberg Method \n",
    "def rkf4(f,x1,x2,y,h,e):\n",
    "    if x2<x1:\n",
    "        h = -1*h\n",
    "    k = math.floor((x2-x1)/h)\n",
    "    for i in range(k):\n",
    "        k1 = h*f(x1,y)\n",
    "        k2 = h*f(x1+ 2/9*h,y + 2/9*k1)\n",
    "        k3 = h*f(x1+ 1/3*h,y + 1/12*k1 + 1/4*k2)\n",
    "        k4 = h*f(x1+ 3/4*h,y + 69/128*k1 - 243/128*k2 + 135/64*k3)\n",
    "        k5 = h*f(x1 + h, y - 17/12*k1 + 27/4*k2 -27/5*k3 + 16/15*k4)\n",
    "        k6 = h*f(x1 + 5/6*h, y + 65/432*k1 -5/6*k2 + 13/16*k3 + 4/27*k4 + 5/144*k5)\n",
    "        y = y + (47/450*k1 + 12/25*k3 + 32/225*k4 +1/30*k5 + 6/25*k6)\n",
    "        te = abs(-1/150*k1 + 3/100*k3 - 16/75*k4 - 1/20*k5 + 6/25*k6)\n",
    "        if te>abs(e):\n",
    "            h = 0.9*h*math.pow(e/te,0.2)\n",
    "        x1 = x1 + h\n",
    "    return y\n",
    "#To make Plots\n",
    "def rk4graph(f,x1,x2,y,h,e):\n",
    "    if x2<x1:\n",
    "        h = -1*h\n",
    "    u = []\n",
    "    x = []\n",
    "    k = math.floor((x2-x1)/h)\n",
    "    for i in range(k):\n",
    "        u.append(y)\n",
    "        x.append(x1)\n",
    "        k1 = h*f(x1,y)\n",
    "        k2 = h*f(x1+ 2/9*h,y + 2/9*k1)\n",
    "        k3 = h*f(x1+ 1/3*h,y + 1/12*k1 + 1/4*k2)\n",
    "        k4 = h*f(x1+ 3/4*h,y + 69/128*k1 - 243/128*k2 + 135/64*k3)\n",
    "        k5 = h*f(x1 + h, y - 17/12*k1 + 27/4*k2 -27/5*k3 + 16/15*k4)\n",
    "        k6 = h*f(x1 + 5/6*h, y + 65/432*k1 -5/6*k2 + 13/16*k3 + 4/27*k4 + 5/144*k5)\n",
    "        y = y + (47/450*k1 + 12/25*k3 + 32/225*k4 +1/30*k5 + 6/25*k6)\n",
    "        te = abs(-1/150*k1 + 3/100*k3 - 16/75*k4 - 1/20*k5 + 6/25*k6)\n",
    "        if te>abs(e):\n",
    "            h = 0.9*h*math.pow(e/te,0.2)\n",
    "        x1 = x1 + h\n",
    "    plt.plot(x,u) \n",
    "    plt.xlabel(\"x\")\n",
    "    plt.ylabel(\"y\")\n",
    "    plt.title(\"y v x\")\n",
    "def f1(x,y):\n",
    "    return -0.6*y + 10*pow(math.e,-(x-2)**2/0.03)\n",
    "print(\"The value at 3 by rk4 step halving method is\")\n",
    "print(rk4half(f1,0,3,0.5,0.05,0.001))\n",
    "print(\"The value at 3 by the Runge Kutta Fehlberg method is\")\n",
    "print(rkf4(f1,0,3,0.5,0.05,0.001))\n",
    "print(rk4graph(f1,0,3,0.5,0.05,0.001))"
   ]
  },
  {
   "cell_type": "code",
   "execution_count": null,
   "id": "f595b4c0-b173-4447-b9ca-ddd85a055dee",
   "metadata": {},
   "outputs": [],
   "source": []
  },
  {
   "cell_type": "code",
   "execution_count": null,
   "id": "16d2198f-b3d3-45e1-b155-d2717b9e252a",
   "metadata": {},
   "outputs": [],
   "source": []
  },
  {
   "cell_type": "code",
   "execution_count": null,
   "id": "acdcfd03-f70f-413a-bcfd-9ee3f6aa05fa",
   "metadata": {},
   "outputs": [],
   "source": []
  }
 ],
 "metadata": {
  "kernelspec": {
   "display_name": "Python 3",
   "language": "python",
   "name": "python3"
  },
  "language_info": {
   "codemirror_mode": {
    "name": "ipython",
    "version": 3
   },
   "file_extension": ".py",
   "mimetype": "text/x-python",
   "name": "python",
   "nbconvert_exporter": "python",
   "pygments_lexer": "ipython3",
   "version": "3.8.8"
  }
 },
 "nbformat": 4,
 "nbformat_minor": 5
}
