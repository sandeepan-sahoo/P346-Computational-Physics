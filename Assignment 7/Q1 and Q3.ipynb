{
 "cells": [
  {
   "cell_type": "code",
   "execution_count": 17,
   "id": "d1658163-ff55-4787-ae05-dbd7dd4e825e",
   "metadata": {},
   "outputs": [
    {
     "name": "stdout",
     "output_type": "stream",
     "text": [
      "the value at x=4 by Euler's method for step\n",
      "0.5 is 6.487366696821416\n",
      "0.2 is 6.951359501008974\n",
      "0.05 is 7.266269109362119\n",
      "the value at x=4 by Predictor Correlator method for step\n",
      "0.5 is 7.230639057130118\n",
      "0.2 is 7.357892229799242\n",
      "0.05 is 7.38689479998093\n",
      "Value of the wavefunction at\n",
      "The Value of wavefunction at x=2 in ground state\n",
      "0\n",
      "The Value of wavefunction at x=2 in first excited state\n",
      "0\n"
     ]
    }
   ],
   "source": [
    "from MyLibrary import *\n",
    "#Q1\n",
    "def f1(x,y):\n",
    "    if x!=0:\n",
    "        return y*math.log(y)/x\n",
    "#Euler's Method\n",
    "print(\"the value at x=4 by Euler's method for step\")\n",
    "print(\"0.5 is \" + str(euler(f1,2,4,2.71828,0.5)))\n",
    "print(\"0.2 is \" + str(euler(f1,2,4,2.71828,0.2)))\n",
    "print(\"0.05 is \" + str(euler(f1,2,4,2.71828,0.05)))\n",
    "\n",
    "#Predictor Correlator Method\n",
    "print(\"the value at x=4 by Predictor Correlator method for step\")\n",
    "print(\"0.5 is \" + str(pred_corr(f1,2,4,2.71828,0.5)))\n",
    "print(\"0.2 is \" + str(pred_corr(f1,2,4,2.71828,0.2)))\n",
    "print(\"0.05 is \" + str(pred_corr(f1,2,4,2.71828,0.05)))\n",
    "\n",
    "#Q3\n",
    "def f4(x,z):                        #Function for first derivative of the wave function\n",
    "    return z\n",
    "def f5(x,y,z):                      #Function for second derivative of the wave function in ground state, so energy is pi^2/8 as m=1 in natural units\n",
    "    return y*(math.pi**2)/8\n",
    "def f6(x,y,z):                      #Function for second derivative of the wave function in first excited state, so energy is pi^2/8 as m=1 in natural units\n",
    "    return y*(math.pi**2)/2    \n",
    "print(\"Value of the wavefunction at\")\n",
    "print(\"The Value of wavefunction at x=2 in ground state\")\n",
    "print(shooting(f4,f5,0,2,0,0,0,math.pi/2,0.01))\n",
    "print(\"The Value of wavefunction at x=2 in first excited state\")\n",
    "print(shooting(f4,f6,0,2,0,0,0,math.pi/2,0.01))"
   ]
  },
  {
   "cell_type": "code",
   "execution_count": null,
   "id": "a8ff8bff-13b4-4082-ae44-693b935a478a",
   "metadata": {},
   "outputs": [],
   "source": []
  }
 ],
 "metadata": {
  "kernelspec": {
   "display_name": "Python 3",
   "language": "python",
   "name": "python3"
  },
  "language_info": {
   "codemirror_mode": {
    "name": "ipython",
    "version": 3
   },
   "file_extension": ".py",
   "mimetype": "text/x-python",
   "name": "python",
   "nbconvert_exporter": "python",
   "pygments_lexer": "ipython3",
   "version": "3.8.8"
  }
 },
 "nbformat": 4,
 "nbformat_minor": 5
}
